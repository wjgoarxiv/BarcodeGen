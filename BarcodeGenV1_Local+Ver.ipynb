{
 "cells": [
  {
   "cell_type": "markdown",
   "metadata": {},
   "source": [
    "# **Barcode Image Generator V1**\n",
    "> Written by Woojin Go"
   ]
  },
  {
   "cell_type": "code",
   "execution_count": 1,
   "metadata": {},
   "outputs": [
    {
     "name": "stdout",
     "output_type": "stream",
     "text": [
      "Enabling notebook extension jupyter-js-widgets/extension...\n",
      "      - Validating: \u001b[32mOK\u001b[0m\n"
     ]
    }
   ],
   "source": [
    "#@markdown **1. Installing the required packages**\n",
    "#@markdown </br> The following cell will install the required packages for the notebook to run. This cell only needs to be run once.\n",
    "#@markdown ```\n",
    "#@markdown ipywidgets, Pillow, python-barcode\n",
    "#@markdown ```\n",
    "\n",
    "!pip install Pillow python-barcode ipywidgets -qq\n",
    "!pip install --upgrade ipywidgets -qq\n",
    "!jupyter nbextension enable --py widgetsnbextension"
   ]
  },
  {
   "cell_type": "code",
   "execution_count": 2,
   "metadata": {},
   "outputs": [
    {
     "data": {
      "application/vnd.jupyter.widget-view+json": {
       "model_id": "337b5891bd5645bea9c8a90ce414cb10",
       "version_major": 2,
       "version_minor": 0
      },
      "text/plain": [
       "Text(value='TestBarcode', description='Data:')"
      ]
     },
     "metadata": {},
     "output_type": "display_data"
    },
    {
     "data": {
      "application/vnd.jupyter.widget-view+json": {
       "model_id": "6adbce1d56cd474590ac3a1562dbde14",
       "version_major": 2,
       "version_minor": 0
      },
      "text/plain": [
       "Dropdown(description='File format:', options=('png', 'svg', 'jpg'), value='png')"
      ]
     },
     "metadata": {},
     "output_type": "display_data"
    },
    {
     "data": {
      "application/vnd.jupyter.widget-view+json": {
       "model_id": "59c6738f008b4ea781658c67ad727d1f",
       "version_major": 2,
       "version_minor": 0
      },
      "text/plain": [
       "ColorPicker(value='#c0caf5', description='Barcode color:')"
      ]
     },
     "metadata": {},
     "output_type": "display_data"
    },
    {
     "data": {
      "application/vnd.jupyter.widget-view+json": {
       "model_id": "34e9b66e47504f9c90a529daad46f50c",
       "version_major": 2,
       "version_minor": 0
      },
      "text/plain": [
       "ColorPicker(value='#1a1b26', description='Background color:')"
      ]
     },
     "metadata": {},
     "output_type": "display_data"
    },
    {
     "data": {
      "application/vnd.jupyter.widget-view+json": {
       "model_id": "a02045f459274fe4bc633951a06d5d7e",
       "version_major": 2,
       "version_minor": 0
      },
      "text/plain": [
       "Button(description='Generate Barcode', style=ButtonStyle())"
      ]
     },
     "metadata": {},
     "output_type": "display_data"
    },
    {
     "name": "stdout",
     "output_type": "stream",
     "text": [
      "Barcode saved as barcode.png\n"
     ]
    }
   ],
   "source": [
    "#@markdown **2. Main code**\n",
    "#@markdown </br> The following cell contains the main code for the notebook. Run this cell to generate a barcode.\n",
    "#@markdown </br> **Note:** The barcode will be saved in the same directory as the notebook.\n",
    "\n",
    "import barcode\n",
    "import os\n",
    "from barcode.writer import ImageWriter\n",
    "from PIL import Image, ImageColor\n",
    "import ipywidgets as widgets\n",
    "from IPython.display import display\n",
    "\n",
    "def generate_barcode(data, file_format='png', barcode_color='black', background_color='white'):\n",
    "    \"\"\"\n",
    "    Generate a CODE128 barcode from the provided data.\n",
    "    \n",
    "    Args:\n",
    "    data (str): The data to encode in the barcode.\n",
    "    file_format (str): The format of the output file ('png', 'svg', or 'jpg').\n",
    "    barcode_color (str): The color of the barcode.\n",
    "    background_color (str): The color of the barcode's background.\n",
    "\n",
    "    Returns:\n",
    "    str: The file path of the generated barcode image.\n",
    "    \"\"\"\n",
    "    barcode_class = barcode.get_barcode_class('code128')\n",
    "    barcode_instance = barcode_class(data, writer=ImageWriter())\n",
    "\n",
    "    # Save the barcode in the specified file format\n",
    "    file_path = f'barcode'\n",
    "    saved_file_path = barcode_instance.save(file_path)\n",
    "\n",
    "    # Open the image and convert it to RGB\n",
    "    img = Image.open(saved_file_path).convert(\"RGB\")\n",
    "\n",
    "    # Convert color strings to RGB tuples\n",
    "    barcode_color_rgb = ImageColor.getcolor(barcode_color, \"RGB\")\n",
    "    background_color_rgb = ImageColor.getcolor(background_color, \"RGB\")\n",
    "\n",
    "    # Change the colors of the image\n",
    "    data = [\n",
    "        (barcode_color_rgb if pixel == (0, 0, 0) else background_color_rgb)\n",
    "        for pixel in img.getdata()\n",
    "    ]\n",
    "    img.putdata(data)\n",
    "\n",
    "    # Save the image with the new colors\n",
    "    img.save(saved_file_path)\n",
    "\n",
    "    return saved_file_path\n",
    "\n",
    "# Creating user input widgets\n",
    "input_text = input(\"Enter the data to encode in the barcode: \")\n",
    "data = widgets.Text(value=input_text, description='Data:')\n",
    "file_format = widgets.Dropdown(options=['png', 'svg', 'jpg'], description='File format:')\n",
    "barcode_color = widgets.ColorPicker(value='#c0caf5', description='Barcode color:')\n",
    "background_color = widgets.ColorPicker(value='#1a1b26', description='Background color:')\n",
    "button = widgets.Button(description='Generate Barcode')\n",
    "\n",
    "def on_button_clicked(b):\n",
    "    # Generate and display the barcode\n",
    "    file_path = generate_barcode(data.value, file_format.value, barcode_color.value, background_color.value)\n",
    "    print(f\"Barcode saved as {file_path}\")\n",
    "\n",
    "    # Check if the file was created successfully\n",
    "    if not os.path.isfile(file_path):\n",
    "        print(f\"Failed to create {file_path}\")\n",
    "        return\n",
    "\n",
    "    # Display the barcode image if in PNG or JPG format\n",
    "    if file_format.value in ['png', 'jpg', 'svg']:\n",
    "        img = Image.open(file_path)\n",
    "        img.show()\n",
    "\n",
    "# Binding the button click event to the function\n",
    "button.on_click(on_button_clicked)\n",
    "\n",
    "# Displaying the widgets\n",
    "display(data, file_format, barcode_color, background_color, button)"
   ]
  }
 ],
 "metadata": {
  "kernelspec": {
   "display_name": "Barcode",
   "language": "python",
   "name": "python3"
  },
  "language_info": {
   "codemirror_mode": {
    "name": "ipython",
    "version": 3
   },
   "file_extension": ".py",
   "mimetype": "text/x-python",
   "name": "python",
   "nbconvert_exporter": "python",
   "pygments_lexer": "ipython3",
   "version": "3.12.0"
  }
 },
 "nbformat": 4,
 "nbformat_minor": 2
}
